{
 "cells": [
  {
   "cell_type": "markdown",
   "id": "18d2a23f",
   "metadata": {},
   "source": [
    "### Create Sandbox"
   ]
  },
  {
   "cell_type": "code",
   "execution_count": null,
   "id": "a3a4abfd",
   "metadata": {},
   "outputs": [],
   "source": [
    "pip install neo4J"
   ]
  },
  {
   "cell_type": "markdown",
   "id": "4ef88004",
   "metadata": {},
   "source": [
    " #### Libraries"
   ]
  },
  {
   "cell_type": "code",
   "execution_count": null,
   "id": "d2c51d6a",
   "metadata": {},
   "outputs": [],
   "source": [
    "from neo4j import GraphDatabase\n",
    "import pandas as pd\n",
    "import numpy as np\n",
    "from py2neo import Graph, Node, Relationship\n",
    "import time"
   ]
  },
  {
   "cell_type": "code",
   "execution_count": null,
   "id": "96663f85",
   "metadata": {},
   "outputs": [],
   "source": [
    "class Neo4jConnection:\n",
    "    \n",
    "    def __init__(self, uri, user, pwd):\n",
    "        \n",
    "        self.__uri = uri\n",
    "        self.__user = user\n",
    "        self.__pwd = pwd\n",
    "        self.__driver = None\n",
    "        \n",
    "        try:\n",
    "            self.__driver = GraphDatabase.driver(self.__uri, auth=(self.__user, self.__pwd))\n",
    "        except Exception as e:\n",
    "            print(\"Failed to create the driver:\", e)\n",
    "        \n",
    "    def close(self):\n",
    "        \n",
    "        if self.__driver is not None:\n",
    "            self.__driver.close()\n",
    "        \n",
    "    def query(self, query, parameters=None, db=None):\n",
    "        \n",
    "        assert self.__driver is not None, \"Driver not initialized!\"\n",
    "        session = None\n",
    "        response = None\n",
    "        \n",
    "        try: \n",
    "            session = self.__driver.session(database=db) if db is not None else self.__driver.session() \n",
    "            response = list(session.run(query, parameters))\n",
    "        except Exception as e:\n",
    "            print(\"Query failed:\", e)\n",
    "        finally: \n",
    "            if session is not None:\n",
    "                session.close()\n",
    "        return response"
   ]
  },
  {
   "cell_type": "code",
   "execution_count": null,
   "id": "f4a569d9",
   "metadata": {},
   "outputs": [],
   "source": [
    "uri= \"bolt://3.219.30.237:7687\"\n",
    "user = 'neo4j'\n",
    "pwd= \"decisions-ohm-hilltop\"\n",
    "\n",
    "conn = Neo4jConnection(uri=uri, user=user, pwd=pwd)"
   ]
  },
  {
   "cell_type": "code",
   "execution_count": null,
   "id": "e12fc33a",
   "metadata": {},
   "outputs": [],
   "source": [
    "#query= \"MATCH (n) RETURN COUNT(n)\"\n",
    "#result= graph.query(query)\n",
    "#result"
   ]
  },
  {
   "cell_type": "code",
   "execution_count": null,
   "id": "b195b357",
   "metadata": {},
   "outputs": [],
   "source": [
    "#type(result)"
   ]
  },
  {
   "cell_type": "code",
   "execution_count": null,
   "id": "017107af",
   "metadata": {},
   "outputs": [],
   "source": [
    "nodes= pd.read_csv(\"../assets/node.csv\")\n",
    "relations= pd.read_csv(\"../assets/rel-edges.csv\")"
   ]
  },
  {
   "cell_type": "code",
   "execution_count": null,
   "id": "da9ef135",
   "metadata": {},
   "outputs": [],
   "source": [
    "relations"
   ]
  },
  {
   "cell_type": "code",
   "execution_count": null,
   "id": "e8bcbe17",
   "metadata": {},
   "outputs": [],
   "source": [
    "nodes"
   ]
  },
  {
   "cell_type": "code",
   "execution_count": null,
   "id": "2477a6ed",
   "metadata": {},
   "outputs": [],
   "source": [
    "nodes.index"
   ]
  },
  {
   "cell_type": "code",
   "execution_count": null,
   "id": "dd4eacbe",
   "metadata": {},
   "outputs": [],
   "source": [
    "def insert_data(query, rows, batch_size = 10000):\n",
    "    # Function to handle the updating the Neo4j database in batch mode.\n",
    "    \n",
    "    total = 0\n",
    "    batch = 0\n",
    "    start = time.time()\n",
    "    result = None\n",
    "    \n",
    "    while batch * batch_size < len(rows):\n",
    "\n",
    "        res = conn.query(query, \n",
    "                         parameters = {'rows': rows[batch*batch_size:(batch+1)*batch_size].to_dict('records')})\n",
    "        if res != None and len(res)>0:\n",
    "            total += res[0]['total']\n",
    "            batch += 1\n",
    "            result = {\"total\":total, \n",
    "                      \"batches\":batch, \n",
    "                      \"time\":time.time()-start}\n",
    "        \n",
    "    return result"
   ]
  },
  {
   "cell_type": "markdown",
   "id": "63193f2e",
   "metadata": {},
   "source": [
    "the nodes"
   ]
  },
  {
   "cell_type": "code",
   "execution_count": null,
   "id": "baf93a70",
   "metadata": {},
   "outputs": [],
   "source": [
    "def add_nodes(rows):\n",
    "    \n",
    "    query = \"\"\"UNWIND $rows AS row\n",
    "               MERGE (:Node {id: row.id, name: row.entity})\n",
    "               RETURN COUNT(*) AS total\n",
    "            \"\"\"\n",
    "    \n",
    "    return insert_data(query, rows)\n",
    "\n",
    "\n",
    "add_nodes(nodes)\n"
   ]
  },
  {
   "cell_type": "markdown",
   "id": "dde0a169",
   "metadata": {},
   "source": [
    "source"
   ]
  },
  {
   "cell_type": "code",
   "execution_count": null,
   "id": "ab91b417",
   "metadata": {},
   "outputs": [],
   "source": [
    "# UNWIND $rows AS row\n",
    "#              MATCH (src:Node {id: row.Source}), (tar:Node {id: row.Target})\n",
    "#               CREATE (src)-[rel:%s]->(tar)"
   ]
  },
  {
   "cell_type": "code",
   "execution_count": null,
   "id": "10fd1736",
   "metadata": {},
   "outputs": [],
   "source": [
    "relations"
   ]
  },
  {
   "cell_type": "code",
   "execution_count": null,
   "id": "a97af41e",
   "metadata": {},
   "outputs": [],
   "source": [
    "def loop_relations(relations, rows):\n",
    "    for x in relations.relation:\n",
    "        print(x)\n",
    "        add_relations(rows,x)\n",
    "    return x\n",
    "loop_relations(relations, rows)"
   ]
  },
  {
   "cell_type": "code",
   "execution_count": null,
   "id": "18e5a53b",
   "metadata": {},
   "outputs": [],
   "source": [
    "def add_relations(relations, x):\n",
    "    \n",
    "    query = \"\"\"UNWIND $rows AS row\n",
    "               MATCH (source:Node {id: row.source}), (target:Node {id: row.target})\n",
    "               RETURN (source)-[rel:%s]->(target)\n",
    "            \"\"\" % x\n",
    "    \n",
    "    \n",
    "    return insert_data(query, rows)\n",
    "\n",
    "\n",
    "add_relations(relations,x)"
   ]
  },
  {
   "cell_type": "code",
   "execution_count": null,
   "id": "a2d8a060",
   "metadata": {},
   "outputs": [],
   "source": [
    "#def add_upload(rows):\n",
    "#    \n",
    "#    query = \"\"\"UNWIND $rows AS row\n",
    "#               MERGE (source:Source {id: row.source})\n",
    "#               MERGE (target:Target {id: row.target})\n",
    "#               MERGE (source)-[r:TO]->(target)\n",
    "#               RETURN COUNT(r) AS total\n",
    "#            \"\"\"\n",
    "#    \n",
    "#    return insert_data(query, rows)\n",
    "#\n",
    "#\n",
    "#add_relations(relations)"
   ]
  },
  {
   "cell_type": "code",
   "execution_count": null,
   "id": "c33c957f",
   "metadata": {},
   "outputs": [],
   "source": [
    "#LOAD CSV WITH HEADERS from 'file:///input-data-for-graph_1.csv' as row with row where row.source is not null\n",
    "#\n",
    "#MERGE (n:Source {Name: row.source})\n",
    "#MERGE (m:Target {Name: row.target})\n",
    "#MERGE (n) -[:TO {dist: row.target}]-> (m)"
   ]
  },
  {
   "cell_type": "code",
   "execution_count": null,
   "id": "c1f402f7",
   "metadata": {},
   "outputs": [],
   "source": []
  },
  {
   "cell_type": "code",
   "execution_count": null,
   "id": "1735a9e2",
   "metadata": {},
   "outputs": [],
   "source": []
  }
 ],
 "metadata": {
  "kernelspec": {
   "display_name": "Python 3 (ipykernel)",
   "language": "python",
   "name": "python3"
  },
  "language_info": {
   "codemirror_mode": {
    "name": "ipython",
    "version": 3
   },
   "file_extension": ".py",
   "mimetype": "text/x-python",
   "name": "python",
   "nbconvert_exporter": "python",
   "pygments_lexer": "ipython3",
   "version": "3.10.0"
  }
 },
 "nbformat": 4,
 "nbformat_minor": 5
}
