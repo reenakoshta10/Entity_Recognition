{
 "cells": [
  {
   "cell_type": "code",
   "execution_count": 5,
   "metadata": {},
   "outputs": [],
   "source": [
    "import streamlit\n",
    "import streamlit_agraph\n",
    "import SPARQLWrapper"
   ]
  },
  {
   "cell_type": "code",
   "execution_count": 9,
   "metadata": {},
   "outputs": [
    {
     "name": "stderr",
     "output_type": "stream",
     "text": [
      "2022-01-14 18:47:27.372 \n",
      "  \u001b[33m\u001b[1mWarning:\u001b[0m to view this Streamlit app on a browser, run it with the following\n",
      "  command:\n",
      "\n",
      "    streamlit run C:\\Users\\User\\anaconda3\\envs\\Entity_Recognition\\lib\\site-packages\\ipykernel_launcher.py [ARGUMENTS]\n"
     ]
    }
   ],
   "source": [
    "import streamlit\n",
    "from streamlit_agraph import agraph, Node, Edge, Config\n",
    "\n",
    "nodes = []\n",
    "edges = []\n",
    "nodes.append( Node(id=\"Spiderman\", \n",
    "                   label=\"Peter Parker\", \n",
    "                   size=400, \n",
    "                   svg=\"http://marvel-force-chart.surge.sh/marvel_force_chart_img/top_spiderman.png\") \n",
    "            ) # includes **kwargs\n",
    "nodes.append( Node(id=\"Captain_Marvel\", \n",
    "                   size=400, \n",
    "                   svg=\"http://marvel-force-chart.surge.sh/marvel_force_chart_img/top_captainmarvel.png\") \n",
    "            )\n",
    "edges.append( Edge(source=\"Captain_Marvel\", \n",
    "                   label=\"friend_of\", \n",
    "                   target=\"Spiderman\", \n",
    "                   type=\"CURVE_SMOOTH\") \n",
    "            ) # includes **kwargs\n",
    "\n",
    "config = Config(width=500, \n",
    "                height=500, \n",
    "                directed=True,\n",
    "                nodeHighlightBehavior=True, \n",
    "                highlightColor=\"#F7A7A6\", # or \"blue\"\n",
    "                collapsible=True,\n",
    "                node={'labelProperty':'label'},\n",
    "                link={'labelProperty': 'label', 'renderLabel': True}\n",
    "                # **kwargs e.g. node_size=1000 or node_color=\"blue\"\n",
    "                ) \n",
    "\n",
    "return_value = agraph(nodes=nodes, \n",
    "                      edges=edges, \n",
    "                      config=config)"
   ]
  },
  {
   "cell_type": "code",
   "execution_count": 10,
   "metadata": {},
   "outputs": [
    {
     "name": "stdout",
     "output_type": "stream",
     "text": [
      "Help on class Edge in module streamlit_agraph:\n",
      "\n",
      "class Edge(builtins.object)\n",
      " |  Edge(source, target, color='#F7A7A6', type='STRAIGHT', semanticStrokeWidth=False, strokeWidth=1.5, labelProperty='', renderLabel=False, labelPosition='right', linkValue=1, **kwargs)\n",
      " |  \n",
      " |  Methods defined here:\n",
      " |  \n",
      " |  __init__(self, source, target, color='#F7A7A6', type='STRAIGHT', semanticStrokeWidth=False, strokeWidth=1.5, labelProperty='', renderLabel=False, labelPosition='right', linkValue=1, **kwargs)\n",
      " |      Initialize self.  See help(type(self)) for accurate signature.\n",
      " |  \n",
      " |  to_dict(self)\n",
      " |  \n",
      " |  ----------------------------------------------------------------------\n",
      " |  Data descriptors defined here:\n",
      " |  \n",
      " |  __dict__\n",
      " |      dictionary for instance variables (if defined)\n",
      " |  \n",
      " |  __weakref__\n",
      " |      list of weak references to the object (if defined)\n",
      "\n"
     ]
    }
   ],
   "source": [
    "help(Edge)"
   ]
  }
 ],
 "metadata": {
  "interpreter": {
   "hash": "993ba414554bd467ec8a9ec2ba0eb2bb6024f51dff34b0a39558c3dc8d521aef"
  },
  "kernelspec": {
   "display_name": "Python 3.8.12 64-bit ('Entity_Recognition': conda)",
   "language": "python",
   "name": "python3"
  },
  "language_info": {
   "codemirror_mode": {
    "name": "ipython",
    "version": 3
   },
   "file_extension": ".py",
   "mimetype": "text/x-python",
   "name": "python",
   "nbconvert_exporter": "python",
   "pygments_lexer": "ipython3",
   "version": "3.8.12"
  },
  "orig_nbformat": 4
 },
 "nbformat": 4,
 "nbformat_minor": 2
}
